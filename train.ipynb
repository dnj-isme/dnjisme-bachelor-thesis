{
 "cells": [
  {
   "cell_type": "code",
   "execution_count": null,
   "metadata": {},
   "outputs": [],
   "source": [
    "# Import Module\n",
    "from ultralytics import YOLO\n",
    "\n",
    "# Reference (Copy from here)\n",
    "modeln = YOLO(\"./yolo/yolov12n.pt\") # Nano\n",
    "models = YOLO(\"./yolo/yolov12s.pt\") # Small\n",
    "modelm = YOLO(\"./yolo/yolov12m.pt\") # Medium "
   ]
  },
  {
   "cell_type": "markdown",
   "metadata": {},
   "source": [
    "## Vanilla YOLO V12"
   ]
  },
  {
   "cell_type": "code",
   "execution_count": null,
   "metadata": {},
   "outputs": [],
   "source": [
    "# Train Model (nano)\n",
    "\n",
    "modeln.train(\n",
    "  data=\"./datasets/data.yaml\",\n",
    "  epochs=100,           # Max epochs (stopped earlier if patience is met)\n",
    "  imgsz=640,           # Image size (affects accuracy & speed)\n",
    "  batch=16,            # Adjust based on VRAM; lower values reduce memory load but slow training\n",
    "  device=0,            # GPU index (0 for first GPU)\n",
    "  project=\"runs/train\",\n",
    "  name=\"vanilla_yolov12n\",\n",
    "\n",
    "  # Regularization\n",
    "  weight_decay=0.001,  # Prevents overfitting (default: 0.0005)\n",
    "\n",
    "  # Learning Rate & Scheduling\n",
    "  lr0=0.01,            # Initial learning rate (higher speeds up early training but risks instability)\n",
    "  lrf=0.0001,          # Final learning rate (ensures stability in later epochs)\n",
    "  warmup_epochs=3.0,   # Gradual increase in learning rate (prevents sudden high-loss spikes)\n",
    "  warmup_bias_lr=0.01, # Separate warm-up for bias layers (improves stability)\n",
    "\n",
    "  # Early Stopping\n",
    "  patience=10          # Stops training early if validation loss does not improve for 10 epochs\n",
    ")"
   ]
  },
  {
   "cell_type": "code",
   "execution_count": null,
   "metadata": {},
   "outputs": [],
   "source": [
    "# Train Model (small)\n",
    "\n",
    "models.train(\n",
    "  data=\"./datasets/data.yaml\",\n",
    "  epochs=100,\n",
    "  imgsz=640,\n",
    "  batch=8,\n",
    "  device=0,\n",
    "  project=\"runs/train\",\n",
    "  name=\"vanilla_yolov12s\",\n",
    "  weight_decay=0.001,\n",
    "  lr0=0.01,\n",
    "  lrf=0.0001,\n",
    "  warmup_epochs=3.0,\n",
    "  warmup_bias_lr=0.01,\n",
    "  patience=10\n",
    ")"
   ]
  },
  {
   "cell_type": "code",
   "execution_count": null,
   "metadata": {},
   "outputs": [],
   "source": [
    "# Train Model (medium)\n",
    "\n",
    "modelm.train(\n",
    "  data=\"./datasets/data.yaml\",\n",
    "  epochs=100,\n",
    "  imgsz=640,\n",
    "  batch=4,\n",
    "  device=0,\n",
    "  project=\"runs/train\",\n",
    "  name=\"vanilla_yolov12m\",\n",
    "  weight_decay=0.001,\n",
    "  lr0=0.01,\n",
    "  lrf=0.0001,\n",
    "  warmup_epochs=3.0,\n",
    "  warmup_bias_lr=0.01,\n",
    "  patience=10\n",
    ")"
   ]
  }
 ],
 "metadata": {
  "kernelspec": {
   "display_name": "dnj-thesis",
   "language": "python",
   "name": "python3"
  },
  "language_info": {
   "codemirror_mode": {
    "name": "ipython",
    "version": 3
   },
   "file_extension": ".py",
   "mimetype": "text/x-python",
   "name": "python",
   "nbconvert_exporter": "python",
   "pygments_lexer": "ipython3",
   "version": "3.11.11"
  }
 },
 "nbformat": 4,
 "nbformat_minor": 2
}
