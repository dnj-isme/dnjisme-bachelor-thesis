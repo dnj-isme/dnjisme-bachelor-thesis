{
 "cells": [
  {
   "cell_type": "code",
   "execution_count": 7,
   "metadata": {},
   "outputs": [],
   "source": [
    "# Import Module\n",
    "from ultralytics import YOLO\n",
    "\n",
    "# Reference (Copy from here)\n",
    "modeln = YOLO(\"./yolo/yolov12n.pt\") # Mini\n",
    "models = YOLO(\"./yolo/yolov12s.pt\") # Small\n",
    "modelm = YOLO(\"./yolo/yolov12m.pt\") # Medium "
   ]
  },
  {
   "cell_type": "markdown",
   "metadata": {},
   "source": [
    "## Vanilla YOLO V12"
   ]
  },
  {
   "cell_type": "code",
   "execution_count": null,
   "metadata": {},
   "outputs": [
    {
     "name": "stdout",
     "output_type": "stream",
     "text": [
      "Ultralytics 8.3.96  Python-3.11.11 torch-2.5.1+cu121 CUDA:0 (NVIDIA GeForce RTX 3060 Laptop GPU, 6144MiB)\n",
      "\u001b[34m\u001b[1mengine\\trainer: \u001b[0mtask=detect, mode=train, model=./yolo/yolov12n.pt, data=./datasets/data.yaml, epochs=100, time=None, patience=10, batch=16, imgsz=640, save=True, save_period=-1, cache=False, device=0, workers=8, project=runs/train, name=vanilla_yolov12n, exist_ok=False, pretrained=True, optimizer=auto, verbose=True, seed=0, deterministic=True, single_cls=False, rect=False, cos_lr=False, close_mosaic=10, resume=False, amp=True, fraction=1.0, profile=False, freeze=None, multi_scale=False, overlap_mask=True, mask_ratio=4, dropout=0.0, val=True, split=val, save_json=False, save_hybrid=False, conf=None, iou=0.7, max_det=300, half=False, dnn=False, plots=True, source=None, vid_stride=1, stream_buffer=False, visualize=False, augment=False, agnostic_nms=False, classes=None, retina_masks=False, embed=None, show=False, save_frames=False, save_txt=False, save_conf=False, save_crop=False, show_labels=True, show_conf=True, show_boxes=True, line_width=None, format=torchscript, keras=False, optimize=False, int8=False, dynamic=False, simplify=True, opset=None, workspace=None, nms=False, lr0=0.01, lrf=0.0001, momentum=0.937, weight_decay=0.001, warmup_epochs=3.0, warmup_momentum=0.8, warmup_bias_lr=0.01, box=7.5, cls=0.5, dfl=1.5, pose=12.0, kobj=1.0, nbs=64, hsv_h=0.015, hsv_s=0.7, hsv_v=0.4, degrees=0.0, translate=0.1, scale=0.5, shear=0.0, perspective=0.0, flipud=0.0, fliplr=0.5, bgr=0.0, mosaic=1.0, mixup=0.0, copy_paste=0.0, copy_paste_mode=flip, auto_augment=randaugment, erasing=0.4, crop_fraction=1.0, cfg=None, tracker=botsort.yaml, save_dir=runs\\train\\vanilla_yolov12n\n",
      "Overriding model.yaml nc=80 with nc=5\n",
      "\n",
      "                   from  n    params  module                                       arguments                     \n",
      "  0                  -1  1       464  ultralytics.nn.modules.conv.Conv             [3, 16, 3, 2]                 \n",
      "  1                  -1  1      2368  ultralytics.nn.modules.conv.Conv             [16, 32, 3, 2, 1, 2]          \n",
      "  2                  -1  1      6640  ultralytics.nn.modules.block.C3k2            [32, 64, 1, False, 0.25]      \n",
      "  3                  -1  1      9344  ultralytics.nn.modules.conv.Conv             [64, 64, 3, 2, 1, 4]          \n",
      "  4                  -1  1     26080  ultralytics.nn.modules.block.C3k2            [64, 128, 1, False, 0.25]     \n",
      "  5                  -1  1    147712  ultralytics.nn.modules.conv.Conv             [128, 128, 3, 2]              \n",
      "  6                  -1  2    180864  ultralytics.nn.modules.block.A2C2f           [128, 128, 2, True, 4]        \n",
      "  7                  -1  1    295424  ultralytics.nn.modules.conv.Conv             [128, 256, 3, 2]              \n",
      "  8                  -1  2    689408  ultralytics.nn.modules.block.A2C2f           [256, 256, 2, True, 1]        \n",
      "  9                  -1  1         0  torch.nn.modules.upsampling.Upsample         [None, 2, 'nearest']          \n",
      " 10             [-1, 6]  1         0  ultralytics.nn.modules.conv.Concat           [1]                           \n",
      " 11                  -1  1     86912  ultralytics.nn.modules.block.A2C2f           [384, 128, 1, False, -1]      \n",
      " 12                  -1  1         0  torch.nn.modules.upsampling.Upsample         [None, 2, 'nearest']          \n",
      " 13             [-1, 4]  1         0  ultralytics.nn.modules.conv.Concat           [1]                           \n",
      " 14                  -1  1     24000  ultralytics.nn.modules.block.A2C2f           [256, 64, 1, False, -1]       \n",
      " 15                  -1  1     36992  ultralytics.nn.modules.conv.Conv             [64, 64, 3, 2]                \n",
      " 16            [-1, 11]  1         0  ultralytics.nn.modules.conv.Concat           [1]                           \n",
      " 17                  -1  1     74624  ultralytics.nn.modules.block.A2C2f           [192, 128, 1, False, -1]      \n",
      " 18                  -1  1    147712  ultralytics.nn.modules.conv.Conv             [128, 128, 3, 2]              \n",
      " 19             [-1, 8]  1         0  ultralytics.nn.modules.conv.Concat           [1]                           \n",
      " 20                  -1  1    378880  ultralytics.nn.modules.block.C3k2            [384, 256, 1, True]           \n",
      " 21        [14, 17, 20]  1    431647  ultralytics.nn.modules.head.Detect           [5, [64, 128, 256]]           \n",
      "YOLOv12n summary: 272 layers, 2,539,071 parameters, 2,539,055 gradients, 6.0 GFLOPs\n",
      "\n",
      "Transferred 584/691 items from pretrained weights\n",
      "Freezing layer 'model.21.dfl.conv.weight'\n",
      "\u001b[34m\u001b[1mAMP: \u001b[0mrunning Automatic Mixed Precision (AMP) checks...\n",
      "\u001b[34m\u001b[1mAMP: \u001b[0mchecks passed \n"
     ]
    },
    {
     "name": "stderr",
     "output_type": "stream",
     "text": [
      "\u001b[34m\u001b[1mtrain: \u001b[0mScanning C:\\Users\\DnJisme\\Documents\\_Project\\DnJisme\\DnJisme-Thesis\\datasets\\train\\labels.cache... 1011 images, 0 backgrounds, 0 corrupt: 100%|██████████| 1011/1011 [00:00<?, ?it/s]\n",
      "\u001b[34m\u001b[1mval: \u001b[0mScanning C:\\Users\\DnJisme\\Documents\\_Project\\DnJisme\\DnJisme-Thesis\\datasets\\valid\\labels.cache... 68 images, 0 backgrounds, 0 corrupt: 100%|██████████| 68/68 [00:00<?, ?it/s]\n"
     ]
    },
    {
     "name": "stdout",
     "output_type": "stream",
     "text": [
      "Plotting labels to runs\\train\\vanilla_yolov12n\\labels.jpg... \n",
      "\u001b[34m\u001b[1moptimizer:\u001b[0m 'optimizer=auto' found, ignoring 'lr0=0.01' and 'momentum=0.937' and determining best 'optimizer', 'lr0' and 'momentum' automatically... \n",
      "\u001b[34m\u001b[1moptimizer:\u001b[0m AdamW(lr=0.001111, momentum=0.9) with parameter groups 113 weight(decay=0.0), 120 weight(decay=0.001), 119 bias(decay=0.0)\n",
      "Image sizes 640 train, 640 val\n",
      "Using 8 dataloader workers\n",
      "Logging results to \u001b[1mruns\\train\\vanilla_yolov12n\u001b[0m\n",
      "Starting training for 100 epochs...\n",
      "\n",
      "      Epoch    GPU_mem   box_loss   cls_loss   dfl_loss  Instances       Size\n"
     ]
    },
    {
     "name": "stderr",
     "output_type": "stream",
     "text": [
      "  0%|          | 0/64 [00:00<?, ?it/s]"
     ]
    }
   ],
   "source": [
    "# Train Model (mini)\n",
    "\n",
    "modeln.train(\n",
    "  data=\"./datasets/data.yaml\",\n",
    "  epochs=100,          # Reduce if overfitting persists\n",
    "  imgsz=640,          # Keep consistent image size\n",
    "  batch=16,           # Adjust based on GPU memory (lower batch can reduce overfitting)\n",
    "  device=0,\n",
    "  project=\"runs/train\",\n",
    "  name=\"vanilla_yolov12n\",\n",
    "\n",
    "  # 🛠 Regularization\n",
    "  weight_decay=0.001, # Stronger L2 regularization (default: 0.0005)\n",
    "\n",
    "  # ⏳ Learning Rate & Scheduling\n",
    "  lr0=0.01,           # Initial learning rate\n",
    "  lrf=0.0001,         # Final learning rate (slow decay)\n",
    "  warmup_epochs=3.0,  # Gradual warm-up\n",
    "  warmup_bias_lr=0.01,# Warm-up for bias layers\n",
    "\n",
    "  # 🔥 Early Stopping\n",
    "  patience=10         # Stops training if validation loss plateaus\n",
    ")"
   ]
  },
  {
   "cell_type": "code",
   "execution_count": null,
   "metadata": {},
   "outputs": [],
   "source": [
    "# Train Model (small)\n",
    "\n",
    "models.train(\n",
    "  data=\"./datasets/data.yaml\",\n",
    "  epochs=100,          # Reduce if overfitting persists\n",
    "  imgsz=640,          # Keep consistent image size\n",
    "  batch=8,           # Adjust based on GPU memory (lower batch can reduce overfitting)\n",
    "  device=0,\n",
    "  project=\"runs/train\",\n",
    "  name=\"vanilla_yolov12s\",\n",
    "\n",
    "  # 🛠 Regularization\n",
    "  weight_decay=0.001, # Stronger L2 regularization (default: 0.0005)\n",
    "\n",
    "  # ⏳ Learning Rate & Scheduling\n",
    "  lr0=0.01,           # Initial learning rate\n",
    "  lrf=0.0001,         # Final learning rate (slow decay)\n",
    "  warmup_epochs=3.0,  # Gradual warm-up\n",
    "  warmup_bias_lr=0.01,# Warm-up for bias layers\n",
    "\n",
    "  # 🔥 Early Stopping\n",
    "  patience=10         # Stops training if validation loss plateaus\n",
    ")"
   ]
  },
  {
   "cell_type": "code",
   "execution_count": null,
   "metadata": {},
   "outputs": [],
   "source": [
    "# Train Model (medium)\n",
    "\n",
    "modelm.train(\n",
    "  data=\"./datasets/data.yaml\",\n",
    "  epochs=100,          # Reduce if overfitting persists\n",
    "  imgsz=640,          # Keep consistent image size\n",
    "  batch=4,           # Adjust based on GPU memory (lower batch can reduce overfitting)\n",
    "  device=0,\n",
    "  project=\"runs/train\",\n",
    "  name=\"vanilla_yolov12m\",\n",
    "\n",
    "  # 🛠 Regularization\n",
    "  weight_decay=0.001, # Stronger L2 regularization (default: 0.0005)\n",
    "\n",
    "  # ⏳ Learning Rate & Scheduling\n",
    "  lr0=0.01,           # Initial learning rate\n",
    "  lrf=0.0001,         # Final learning rate (slow decay)\n",
    "  warmup_epochs=3.0,  # Gradual warm-up\n",
    "  warmup_bias_lr=0.01,# Warm-up for bias layers\n",
    "\n",
    "  # 🔥 Early Stopping\n",
    "  patience=10         # Stops training if validation loss plateaus\n",
    ")"
   ]
  }
 ],
 "metadata": {
  "kernelspec": {
   "display_name": "dnj-thesis",
   "language": "python",
   "name": "python3"
  },
  "language_info": {
   "codemirror_mode": {
    "name": "ipython",
    "version": 3
   },
   "file_extension": ".py",
   "mimetype": "text/x-python",
   "name": "python",
   "nbconvert_exporter": "python",
   "pygments_lexer": "ipython3",
   "version": "3.11.11"
  }
 },
 "nbformat": 4,
 "nbformat_minor": 2
}
